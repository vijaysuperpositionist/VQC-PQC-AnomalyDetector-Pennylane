{
 "cells": [
  {
   "cell_type": "code",
   "execution_count": 2,
   "id": "33e4d6b0-ce13-4b8b-bbc4-4781bb93bb7d",
   "metadata": {},
   "outputs": [],
   "source": [
    "# PennyLane VQC Classifier for PQC Anomaly Detection\n",
    "# --------------------------------------------------\n",
    "# This notebook implements a variational quantum classifier (VQC)\n",
    "# using Pennylane to detect anomalies in PQC protocol graph data."
   ]
  },
  {
   "cell_type": "markdown",
   "id": "eb84b6e8-3b50-423a-9486-ddb32962d2ec",
   "metadata": {},
   "source": [
    "We begin by importing the required libraries and reading in the pre-processed 32-row dataset containing normalized PQC protocol features and anomaly labels. The dataset is split into features (X) and labels (y) for binary classification."
   ]
  },
  {
   "cell_type": "code",
   "execution_count": 3,
   "id": "761fa5a6-7090-409f-9935-c19dfab67ca3",
   "metadata": {},
   "outputs": [],
   "source": [
    "# Step 1: Import packages and load dataset\n",
    "import pennylane as qml\n",
    "from pennylane import numpy as np\n",
    "import pandas as pd\n",
    "from sklearn.model_selection import train_test_split\n",
    "from sklearn.preprocessing import StandardScaler\n",
    "\n",
    "# Load the anomaly-labeled PQC dataset (32 entries)\n",
    "data_path = \"./data/grover_anomaly_subset.csv\"\n",
    "df = pd.read_csv(data_path)\n",
    "\n",
    "# Separate features and labels\n",
    "X = df.drop(columns=[\"label\"]).values\n",
    "y = df[\"label\"].values"
   ]
  },
  {
   "cell_type": "markdown",
   "id": "534dcd99-ec32-4ca1-9969-96f4f6c8e5c6",
   "metadata": {},
   "source": [
    "To match the 4-qubit quantum circuit, we reduce our 10-dimensional feature space down to 4 principal components using PCA. This preserves maximum variance while ensuring compatibility with quantum input encoding. The dataset is also scaled and split into training and testing sets."
   ]
  },
  {
   "cell_type": "code",
   "execution_count": 4,
   "id": "beec1e0f-f5f9-4ae4-96e5-507363eb1b9a",
   "metadata": {},
   "outputs": [],
   "source": [
    "#Step 2: Preprocessing + PCA Dimensionality Reduction\n",
    "# Step 2: Normalize features and reduce to 4D using PCA\n",
    "from sklearn.decomposition import PCA\n",
    "\n",
    "# Normalize features\n",
    "scaler = StandardScaler()\n",
    "X_scaled = scaler.fit_transform(X)\n",
    "\n",
    "# Reduce to 4 dimensions (matches 4-qubit circuit)\n",
    "pca = PCA(n_components=4)\n",
    "X_encoded = pca.fit_transform(X_scaled)\n",
    "\n",
    "# Train-test split (70% train, 30% test)\n",
    "X_train, X_test, y_train, y_test = train_test_split(X_encoded, y, test_size=0.3, random_state=42)"
   ]
  },
  {
   "cell_type": "markdown",
   "id": "2510016d-1de8-448f-afce-00d5e28ec652",
   "metadata": {},
   "source": [
    "We define a 4-qubit quantum device using PennyLane’s default.qubit simulator.\n",
    "\n",
    "The input features are embedded via AngleEmbedding using Y-rotations.\n",
    "\n",
    "The circuit's variational part uses StronglyEntanglingLayers, a common choice for expressive ansatz.\n",
    "\n",
    "The output is the expectation value of the Pauli-Z observable on the first qubit, which we interpret as a decision boundary."
   ]
  },
  {
   "cell_type": "code",
   "execution_count": 5,
   "id": "c9a10d22-1a79-4f5f-99a8-e87f2681ec56",
   "metadata": {},
   "outputs": [],
   "source": [
    "# Step 3: Define quantum device and circuit\n",
    "n_qubits = 4\n",
    "dev = qml.device(\"default.qubit\", wires=n_qubits)\n",
    "\n",
    "# Feature encoding using AngleEmbedding (rotation around Y)\n",
    "def feature_encoding(x):\n",
    "    qml.templates.AngleEmbedding(x, wires=range(n_qubits), rotation=\"Y\")\n",
    "\n",
    "# Variational ansatz: StronglyEntanglingLayers (2 layers default)\n",
    "def variational_block(weights):\n",
    "    qml.templates.StronglyEntanglingLayers(weights, wires=range(n_qubits))\n",
    "\n",
    "# Define the full VQC model (returns expectation of Z on wire 0)\n",
    "@qml.qnode(dev)\n",
    "def vqc_circuit(x, weights):\n",
    "    feature_encoding(x)\n",
    "    variational_block(weights)\n",
    "    return qml.expval(qml.PauliZ(0))\n"
   ]
  },
  {
   "cell_type": "markdown",
   "id": "ebec57b2-a11b-4733-ac0f-97381613c40e",
   "metadata": {},
   "source": [
    "Step 4: Defining Loss Function and Optimizer\n",
    "The predict function runs our VQC on each input vector.\n",
    "We use a mean-squared-error loss between predicted expectations and true binary labels.\n",
    "We initialize trainable weights and use the Adam optimizer for 50 update steps."
   ]
  },
  {
   "cell_type": "code",
   "execution_count": 6,
   "id": "3a19400f-ec75-4bae-bd8c-19b596ca05ee",
   "metadata": {},
   "outputs": [],
   "source": [
    "# Step 4: Prediction, loss, and optimizer setup\n",
    "\n",
    "# Predict on a batch of inputs\n",
    "def predict(x, weights):\n",
    "    return np.array([vqc_circuit(xi, weights) for xi in x])\n",
    "\n",
    "# Define a simple squared loss (can be swapped for cross-entropy later)\n",
    "def square_loss(labels, predictions):\n",
    "    return np.mean((labels - predictions) ** 2)\n",
    "\n",
    "# Weight initialization: 2 layers of entangling blocks\n",
    "n_layers = 2\n",
    "weights_shape = qml.templates.StronglyEntanglingLayers.shape(n_layers=n_layers, n_wires=n_qubits)\n",
    "weights = np.random.randn(*weights_shape, requires_grad=True)\n",
    "\n",
    "# Optimizer and training loop setup\n",
    "opt = qml.AdamOptimizer(stepsize=0.1)\n",
    "steps = 50\n",
    "losses = []"
   ]
  },
  {
   "cell_type": "markdown",
   "id": "a97c5e7f-8455-4d00-a0f7-f345793b46e4",
   "metadata": {},
   "source": [
    "Step 5: Training Loop\n",
    "We train the VQC using gradient-based optimization for 50 steps. Every 10 steps, we log the loss to monitor convergence. The cost is minimized by adjusting the parameters in the variational ansatz using PennyLane’s built-in AdamOptimizer."
   ]
  },
  {
   "cell_type": "code",
   "execution_count": 7,
   "id": "15e4de96-abd2-4c1f-b4d0-18038b90038f",
   "metadata": {},
   "outputs": [
    {
     "name": "stdout",
     "output_type": "stream",
     "text": [
      "Step  0 | Loss: 0.1053\n",
      "Step 10 | Loss: 0.0309\n",
      "Step 20 | Loss: 0.0300\n",
      "Step 30 | Loss: 0.0294\n",
      "Step 40 | Loss: 0.0293\n"
     ]
    }
   ],
   "source": [
    "# Step 5: Training the VQC model\n",
    "for i in range(steps):\n",
    "    weights, loss = opt.step_and_cost(lambda w: square_loss(y_train, predict(X_train, w)), weights)\n",
    "    losses.append(loss)\n",
    "    if i % 10 == 0:\n",
    "        print(f\"Step {i:>2} | Loss: {loss:.4f}\")\n"
   ]
  },
  {
   "cell_type": "code",
   "execution_count": 9,
   "id": "1686e7c3-131c-4979-af72-2a9d68312bc6",
   "metadata": {},
   "outputs": [
    {
     "name": "stdout",
     "output_type": "stream",
     "text": [
      "Classification Report:\n",
      "\n",
      "              precision    recall  f1-score   support\n",
      "\n",
      "           0       1.00      1.00      1.00        10\n",
      "\n",
      "    accuracy                           1.00        10\n",
      "   macro avg       1.00      1.00      1.00        10\n",
      "weighted avg       1.00      1.00      1.00        10\n",
      "\n"
     ]
    },
    {
     "name": "stderr",
     "output_type": "stream",
     "text": [
      "C:\\Users\\14254\\anaconda3\\envs\\pennylane_env\\lib\\site-packages\\sklearn\\metrics\\_classification.py:407: UserWarning: A single label was found in 'y_true' and 'y_pred'. For the confusion matrix to have the correct shape, use the 'labels' parameter to pass all known labels.\n",
      "  warnings.warn(\n"
     ]
    },
    {
     "data": {
      "image/png": "[encoded data removed]",
      "text/plain": [
       "<Figure size 640x480 with 2 Axes>"
      ]
     },
     "metadata": {},
     "output_type": "display_data"
    }
   ],
   "source": [
    "from sklearn.metrics import classification_report, confusion_matrix\n",
    "import matplotlib.pyplot as plt\n",
    "import seaborn as sns\n",
    "\n",
    "# Step 6: Evaluate on the test set\n",
    "y_pred_raw = predict(X_test, weights)\n",
    "y_pred_labels = [1 if p > 0.5 else 0 for p in y_pred_raw]\n",
    "\n",
    "# Print classification report\n",
    "print(\"Classification Report:\\n\")\n",
    "print(classification_report(y_test, y_pred_labels))\n",
    "\n",
    "# Optional: Confusion matrix visualization\n",
    "cm = confusion_matrix(y_test, y_pred_labels)\n",
    "sns.heatmap(cm, annot=True, fmt='d', cmap='Blues', xticklabels=[0,1], yticklabels=[0,1])\n",
    "plt.xlabel(\"Predicted\")\n",
    "plt.ylabel(\"True Label\")\n",
    "plt.title(\"Confusion Matrix - VQC Anomaly Classifier\")\n",
    "plt.show()"
   ]
  },
  {
   "cell_type": "markdown",
   "id": "997e7813-6552-4527-928f-b384c2e0082a",
   "metadata": {},
   "source": [
    "**Evaluation Summary:**\n",
    "\n",
    "The Variational Quantum Classifier (VQC) achieved perfect accuracy on the test set (10/10 correct predictions).  \n",
    "Only class 0 (normal) was present in the test batch, which triggered a warning in `sklearn` about label imbalance.  \n",
    "This result suggests strong learning capability, but further evaluation on more balanced or stratified splits is recommended.\n"
   ]
  },
  {
   "cell_type": "markdown",
   "id": "a2d426de-c9f6-493e-8852-a9ca7d2125aa",
   "metadata": {},
   "source": [
    "Step 7: Training Loss Visualization\n",
    "This plot illustrates how the model's loss value decreased over training steps.\n",
    "A smooth, downward-sloping curve indicates good convergence and learning dynamics."
   ]
  },
  {
   "cell_type": "code",
   "execution_count": 10,
   "id": "7d9c36f8-a094-4fd2-9371-451d9aa0a9f6",
   "metadata": {},
   "outputs": [
    {
     "data": {
      "image/png": "[encoded data removed]",
      "text/plain": [
       "<Figure size 1000x500 with 1 Axes>"
      ]
     },
     "metadata": {},
     "output_type": "display_data"
    }
   ],
   "source": [
    "# Step 7: Plot training loss over steps\n",
    "import matplotlib.pyplot as plt\n",
    "plt.figure(figsize=(10, 5))\n",
    "plt.plot(range(len(losses)), losses, marker='o')\n",
    "plt.title(\"Training Loss Curve - VQC\")\n",
    "plt.xlabel(\"Training Step\")\n",
    "plt.ylabel(\"Loss\")\n",
    "plt.grid(True)\n",
    "plt.tight_layout()\n",
    "plt.show()"
   ]
  },
  {
   "cell_type": "markdown",
   "id": "90f20cce-504e-4a46-8c31-9b892d88a139",
   "metadata": {},
   "source": [
    "**Training Summary:**\n",
    "\n",
    "- The VQC model's loss reduced significantly over 50 steps, converging to ~0.029.\n",
    "- The learning curve shows strong and stable convergence, indicating that the model was able to minimize classification error efficiently on the training set.\n",
    "- Final accuracy (from the confusion matrix) was 100% on a small, unbalanced test set. Future testing with a more diverse dataset is recommended.\n",
    "- #\n",
    "Step  0 | Loss: 0.1053\n",
    "Step 10 | Loss: 0.0309\n",
    "Step 20 | Loss: 0.0300\n",
    "Step 30 | Loss: 0.0294\n",
    "Step 40 | Loss: 0.0293"
   ]
  },
  {
   "cell_type": "code",
   "execution_count": null,
   "id": "2baf10be-c89c-46aa-b99b-7bfb1c114b7d",
   "metadata": {},
   "outputs": [],
   "source": []
  }
 ],
 "metadata": {
  "kernelspec": {
   "display_name": "Python 3 (ipykernel)",
   "language": "python",
   "name": "python3"
  },
  "language_info": {
   "codemirror_mode": {
    "name": "ipython",
    "version": 3
   },
   "file_extension": ".py",
   "mimetype": "text/x-python",
   "name": "python",
   "nbconvert_exporter": "python",
   "pygments_lexer": "ipython3",
   "version": "3.10.16"
  }
 },
 "nbformat": 4,
 "nbformat_minor": 5
}
