{
 "cells": [
  {
   "cell_type": "markdown",
   "id": "60b5f853-0a97-4ddb-847c-ee4be93b57f8",
   "metadata": {},
   "source": [
    "Step1 : In child folder data/ we have \"PennyLane_PQC_AnomalyDataset.csv\" , \"grover_anomaly_subset.csv\" Goal: Simulate a tiny, Grover-searchable dataset (32 rows → 5 qubits) to test Grover's anomaly-search concept. \n",
    "Result: grover_anomaly_subset.csv This is a sanity check file, not the actual algorithm output.\n",
    "We manually pulled 32 samples with known labels (label == 1) as anomalies.\n",
    "\n",
    "\n",
    "\n",
    "\n"
   ]
  },
  {
   "cell_type": "markdown",
   "id": "34491fd8-5a21-4116-a55a-1ed0407cac06",
   "metadata": {},
   "source": [
    "Step2 Objective: Create a full PennyLane-based Grover algorithm that: Loads any CSV file (like your 15MB one)\n",
    "\n",
    "Maps a small chunk of it (powers of 2: 8, 16, 32, etc.) to qubit space\n",
    "\n",
    "Creates an oracle dynamically from the label == 1 entries\n",
    "\n",
    "Runs Grover's algorithm to locate indices likely containing anomalies\n",
    "\n",
    "Returns the result + probability distribution\n",
    "\n",
    "(Optional) Generates visualization of search amplification\n",
    "\n",
    "Is exported as grover_anomaly_search.ipynb"
   ]
  },
  {
   "cell_type": "code",
   "execution_count": 40,
   "id": "b574318b-9e1b-428e-97d2-3c937129c9c0",
   "metadata": {},
   "outputs": [
    {
     "name": "stdout",
     "output_type": "stream",
     "text": [
      "[20]\n"
     ]
    }
   ],
   "source": [
    "import pennylane as qml\n",
    "from pennylane import numpy as np\n",
    "import pandas as pd\n",
    "\n",
    "# Load dataset (32 entries, already normalized)\n",
    "data_path = \"./data/grover_anomaly_subset.csv\"\n",
    "df = pd.read_csv(data_path)\n",
    "\n",
    "# Number of qubits for 32 states = 5\n",
    "n_qubits = 5\n",
    "dev = qml.device(\"default.qubit\", wires=n_qubits)\n",
    "\n",
    "# Identify anomaly indices (label == 1)\n",
    "oracle_indices = df[df[\"label\"] == 1].index.tolist()\n",
    "print(oracle_indices)\n",
    "\n",
    "# Define the binary oracle (fixed bit order: LSB -> Qubit 0)\n",
    "def binary_oracle(index, control_wires, target_wire):\n",
    "    \"\"\"Marks a basis state by flipping its phase using Z.\"\"\"\n",
    "    binary = format(index, f\"0{len(control_wires) + 1}b\")  # MSB-left\n",
    "\n",
    "    # Apply PauliX to turn |0⟩ to |1⟩ where needed\n",
    "    for i, bit in enumerate(binary[:-1]):  # Exclude target\n",
    "        if bit == '0':\n",
    "            qml.PauliX(control_wires[i])\n",
    "\n",
    "    # Mark the target state: phase flip\n",
    "    # We simulate a multi-controlled Z using H-X-H sandwich\n",
    "    qml.Hadamard(target_wire)\n",
    "    qml.ctrl(qml.PauliX, control=control_wires)(target_wire)\n",
    "    qml.Hadamard(target_wire)\n",
    "\n",
    "    # Uncompute the X gates\n",
    "    for i, bit in enumerate(binary[:-1]):\n",
    "        if bit == '0':\n",
    "            qml.PauliX(control_wires[i])\n",
    "\n",
    "# Apply oracle over all anomaly indices\n",
    "# When preparing a state manually (e.g., |10100⟩), DO NOT reverse bits\n",
    "binary = format(20, \"05b\")  # ← no [::-1]\n",
    "for i, bit in enumerate(reversed(binary)):  # reversed for wire order\n",
    "    if bit == '1':\n",
    "        qml.PauliX(i)\n",
    "#Update Full Oracle as Usual\n",
    "def full_oracle(control_wires, target_wire):\n",
    "    for idx in oracle_indices:\n",
    "        binary_oracle(idx, control_wires, target_wire)\n"
   ]
  },
  {
   "cell_type": "code",
   "execution_count": 41,
   "id": "1c0f1a73-95cf-4f5a-aaea-1656f17f63af",
   "metadata": {},
   "outputs": [],
   "source": [
    "# updating the grover_iteration()\n",
    "@qml.qnode(dev)\n",
    "def grover_iteration():\n",
    "    # Step 1: Superposition\n",
    "    for wire in range(n_qubits):\n",
    "        qml.Hadamard(wire)\n",
    "\n",
    "    # Step 2: Apply Oracle\n",
    "    full_oracle(control_wires=list(range(n_qubits - 1)), target_wire=n_qubits - 1)\n",
    "\n",
    "    # Step 3: Diffusion\n",
    "    for wire in range(n_qubits):\n",
    "        qml.Hadamard(wire)\n",
    "        qml.PauliX(wire)\n",
    "\n",
    "    qml.Hadamard(wires=n_qubits - 1)\n",
    "    qml.ctrl(qml.PauliX, control=list(range(n_qubits - 1)))(n_qubits - 1)\n",
    "    qml.Hadamard(wires=n_qubits - 1)\n",
    "\n",
    "    for wire in range(n_qubits):\n",
    "        qml.PauliX(wire)\n",
    "        qml.Hadamard(wire)\n",
    "\n",
    "    return qml.probs(wires=range(n_qubits))"
   ]
  },
  {
   "cell_type": "code",
   "execution_count": 42,
   "id": "379dc97c-2177-4ef1-b108-d98659484195",
   "metadata": {},
   "outputs": [
    {
     "name": "stdout",
     "output_type": "stream",
     "text": [
      "\n",
      " Grover's Search Results (Anomalies Detected):\n",
      "\n",
      "State |10101⟩ → Probability: 0.2583\n",
      "\n",
      " Done. You can now map these binary states back to row indices in your 32-row subset.\n"
     ]
    }
   ],
   "source": [
    "# Run Grover's algorithm\n",
    "probs = grover_iteration()\n",
    "\n",
    "# Threshold to detect amplified results\n",
    "threshold = 0.05  # You can lower this to see more, or increase for sharper confidence\n",
    "\n",
    "print(\"\\n Grover's Search Results (Anomalies Detected):\\n\")\n",
    "for i, prob in enumerate(probs):\n",
    "    if prob > threshold:\n",
    "        binary_index = format(i, f\"0{n_qubits}b\")\n",
    "        print(f\"State |{binary_index}⟩ → Probability: {prob:.4f}\")\n",
    "\n",
    "print(\"\\n Done. You can now map these binary states back to row indices in your 32-row subset.\")"
   ]
  },
  {
   "cell_type": "markdown",
   "id": "274e974f-2449-4c47-8d0a-11d09e71b384",
   "metadata": {},
   "source": [
    "### Tips for Future Readers:\n",
    "- If you don't see any amplification, verify your oracle phase flip logic.\n",
    "- If your plot is flat, double-check target wire initialization and oracle phase logic.\n",
    "- The Hadamard–X–Hadamard trick simulates a Z gate — essential for Grover to work."
   ]
  },
  {
   "cell_type": "code",
   "execution_count": 43,
   "id": "f9e58c46-555d-41f3-add0-596aeeadbd04",
   "metadata": {},
   "outputs": [
    {
     "name": "stdout",
     "output_type": "stream",
     "text": [
      "State |10101⟩ → Probability: 0.2583\n",
      "Corresponding dataset index: 21\n"
     ]
    }
   ],
   "source": [
    "#1. Mapping Binary States to Dataset Indices\n",
    "#After executing Grover's algorithm, we'll obtain a list of binary states (e.g., |01001⟩). To identify the corresponding entries in your dataset:\n",
    "# Assuming 'probs' is the array of probabilities from Grover's algorithm\n",
    "threshold = 0.05  # Adjust based on your requirements\n",
    "for i, prob in enumerate(probs):\n",
    "    if prob > threshold:\n",
    "        binary_state = format(i, f\"0{n_qubits}b\")\n",
    "        print(f\"State |{binary_state}⟩ → Probability: {prob:.4f}\")\n",
    "        # Map binary_state to dataset index\n",
    "        index = int(binary_state, 2)\n",
    "        print(f\"Corresponding dataset index: {index}\")\n",
    "#This will help us pinpoint which entries in our dataset are identified as anomalies"
   ]
  },
  {
   "cell_type": "code",
   "execution_count": 44,
   "id": "83a2bda7-d201-4546-b008-afea7e213945",
   "metadata": {},
   "outputs": [
    {
     "data": {
      "image/png": "[encoded data removed]",
      "text/plain": [
       "<Figure size 1200x600 with 1 Axes>"
      ]
     },
     "metadata": {},
     "output_type": "display_data"
    }
   ],
   "source": [
    "#2. Visualizing the probability Distrubution\n",
    "# To get a clearer picture of how Gorver's algorithm is amplifying the probabilities of certain states, we can plot the distribution\n",
    "import matplotlib.pyplot as plt\n",
    "\n",
    "# Plotting the probability distribution\n",
    "plt.figure(figsize=(12, 6))\n",
    "plt.bar(range(len(probs)), probs)\n",
    "plt.xlabel('State Index')\n",
    "plt.ylabel('Probability')\n",
    "plt.title('Grover\\'s Algorithm Probability Distribution')\n",
    "plt.show()"
   ]
  },
  {
   "cell_type": "code",
   "execution_count": 45,
   "id": "164e4379-c3f4-4a0b-9312-6471a16e026f",
   "metadata": {
    "scrolled": true
   },
   "outputs": [
    {
     "name": "stdout",
     "output_type": "stream",
     "text": [
      "message_size               0.399006\n",
      "entropy_score              0.997424\n",
      "timing_deviation           0.430985\n",
      "packet_order_score         0.821972\n",
      "crypto_phase_shift         0.527009\n",
      "key_exchange_variance      0.469954\n",
      "bit_flip_ratio             0.839568\n",
      "noise_injection_level      0.308535\n",
      "circuit_stability          0.395126\n",
      "quantum_signature_score    0.121460\n",
      "label                      0.000000\n",
      "Name: 21, dtype: float64\n"
     ]
    }
   ],
   "source": [
    "df = pd.read_csv('./data/grover_anomaly_subset.csv')\n",
    "print(df.iloc[21])"
   ]
  },
  {
   "cell_type": "code",
   "execution_count": 38,
   "id": "e2e1b48a-c55f-4c3e-b7ec-b63ec516cdd5",
   "metadata": {},
   "outputs": [],
   "source": [
    "## The original Code is completed till here below was learning through iterations, debugging and hard coding the wires"
   ]
  },
  {
   "cell_type": "code",
   "execution_count": 29,
   "id": "555af7c3-b838-497b-a4c1-9ca6a159342d",
   "metadata": {},
   "outputs": [],
   "source": [
    "# ==========================================\n",
    "# CORRECTED ORACLE: Multi-Controlled Phase Flip\n",
    "# ==========================================\n",
    "# Grover's algorithm depends on flipping the phase of the marked state.\n",
    "# Since PennyLane doesn't support a MultiControlledZ gate directly,\n",
    "# we simulate one using the identity: H • X • H = Z\n",
    "# This creates the necessary interference pattern for amplitude amplification."
   ]
  },
  {
   "cell_type": "code",
   "execution_count": null,
   "id": "f800e371-3a37-4646-9fd3-7fbd817be7a9",
   "metadata": {},
   "outputs": [],
   "source": [
    "####  All the below code was debugging until I reached Gemini AI to identify my error on phase flip so we used H.X.H= Z as the correction \n",
    "#in the below plot images we may find a flat histogram depicting all states that was before learning.\n"
   ]
  },
  {
   "cell_type": "code",
   "execution_count": 30,
   "id": "a486a5bf-ae9e-4205-8a03-a1d32f40e9d8",
   "metadata": {},
   "outputs": [
    {
     "name": "stdout",
     "output_type": "stream",
     "text": [
      "Anomaly indices: [20]\n",
      "Expecting amplification around state |10100⟩\n"
     ]
    }
   ],
   "source": [
    "print(\"Anomaly indices:\", oracle_indices)\n",
    "for idx in oracle_indices:\n",
    "    print(f\"Expecting amplification around state |{format(idx, '05b')}⟩\")"
   ]
  },
  {
   "cell_type": "code",
   "execution_count": 48,
   "id": "3784fde0-e144-4983-a096-c129b4b73a89",
   "metadata": {},
   "outputs": [],
   "source": [
    "# Now we chose to implementing Multiple Grover Iterations\n",
    "#Grovers Algorithm's effectivenes increases with the number of iterations. The optimal number of iterations 'r' can be estimated using "
   ]
  },
  {
   "cell_type": "code",
   "execution_count": 9,
   "id": "04717d1e-856b-485e-a4b9-57684eae3232",
   "metadata": {},
   "outputs": [],
   "source": [
    "import matplotlib.pyplot as plt\n",
    "\n",
    "# Number of states and anomaly count\n",
    "N = 2**n_qubits\n",
    "M = len(oracle_indices)\n",
    "R = int(np.floor((np.pi / 4) * np.sqrt(N / M)))  # Optimal iterations\n",
    "\n",
    "@qml.qnode(dev)\n",
    "def grover_iteration():\n",
    "    control_wires = list(range(n_qubits - 1))\n",
    "    target_wire = n_qubits - 1\n",
    "\n",
    "    # Step 0: Initialize all qubits\n",
    "    for wire in range(n_qubits):\n",
    "        qml.Hadamard(wire)\n",
    "\n",
    "    qml.PauliX(target_wire)  # Prepare oracle target in |1⟩\n",
    "\n",
    "    # Step 1: Run Grover iterations\n",
    "    for _ in range(R):\n",
    "        # Apply Oracle\n",
    "        full_oracle(control_wires, target_wire)\n",
    "\n",
    "        # Diffusion\n",
    "        for wire in range(n_qubits):\n",
    "            qml.Hadamard(wire)\n",
    "            qml.PauliX(wire)\n",
    "\n",
    "        qml.Hadamard(target_wire)\n",
    "        qml.ctrl(qml.PauliX, control=control_wires)(target_wire)\n",
    "        qml.Hadamard(target_wire)\n",
    "\n",
    "        for wire in range(n_qubits):\n",
    "            qml.PauliX(wire)\n",
    "            qml.Hadamard(wire)\n",
    "\n",
    "    return qml.probs(wires=range(n_qubits))"
   ]
  },
  {
   "cell_type": "code",
   "execution_count": 11,
   "id": "5f54d5cf-8ac6-4492-9970-96170dd07cb6",
   "metadata": {},
   "outputs": [
    {
     "name": "stdout",
     "output_type": "stream",
     "text": [
      "\n",
      "🎯 Grover's Search Results (Anomalies Detected):\n",
      "\n",
      "\n",
      "✅ Done. You can now map these binary states back to row indices in your 32-row subset.\n"
     ]
    }
   ],
   "source": [
    "probs = grover_iteration()\n",
    "threshold = 0.05\n",
    "\n",
    "print(\"\\n🎯 Grover's Search Results (Anomalies Detected):\\n\")\n",
    "for i, prob in enumerate(probs):\n",
    "    if prob > threshold:\n",
    "        binary_state = format(i, f\"0{n_qubits}b\")\n",
    "        print(f\"State |{binary_state}⟩ → Probability: {prob:.4f}\")\n",
    "\n",
    "print(\"\\n✅ Done. You can now map these binary states back to row indices in your 32-row subset.\")"
   ]
  },
  {
   "cell_type": "code",
   "execution_count": 12,
   "id": "fec65ffc-85b1-4b22-95c4-58957f2c091a",
   "metadata": {},
   "outputs": [
    {
     "name": "stdout",
     "output_type": "stream",
     "text": [
      "Anomaly indices: [20]\n",
      "Expecting amplification around state |10100⟩\n"
     ]
    }
   ],
   "source": [
    "print(\"Anomaly indices:\", oracle_indices)\n",
    "for idx in oracle_indices:\n",
    "    print(f\"Expecting amplification around state |{format(idx, '05b')}⟩\")"
   ]
  },
  {
   "cell_type": "code",
   "execution_count": 13,
   "id": "a4a264ab-3d4f-4b4b-bad9-61c0ef5f41b3",
   "metadata": {},
   "outputs": [
    {
     "data": {
      "image/png": "[encoded data removed]",
      "text/plain": [
       "<Figure size 1200x600 with 1 Axes>"
      ]
     },
     "metadata": {},
     "output_type": "display_data"
    }
   ],
   "source": [
    "plt.figure(figsize=(12, 6))\n",
    "plt.bar(range(len(probs)), probs)\n",
    "plt.xlabel(\"State Index\")\n",
    "plt.ylabel(\"Probability\")\n",
    "plt.title(\"Grover's Algorithm Probability Distribution\")\n",
    "plt.xticks(ticks=range(len(probs)), labels=[format(i, '05b') for i in range(len(probs))], rotation=90)\n",
    "plt.grid(axis='y')\n",
    "plt.tight_layout()\n",
    "plt.show()"
   ]
  },
  {
   "cell_type": "code",
   "execution_count": 18,
   "id": "d60ae21a-f247-40a9-b15c-e980fc762581",
   "metadata": {},
   "outputs": [],
   "source": [
    "#in the above graph even after upgrading the program Grover's is still flat in # Pennylane, so lets run a debug"
   ]
  },
  {
   "cell_type": "code",
   "execution_count": 19,
   "id": "6518bbc5-f24a-4fd1-87c9-9d7171868e35",
   "metadata": {},
   "outputs": [],
   "source": [
    "@qml.qnode(dev)\n",
    "def grover_iteration_debug():\n",
    "    control_wires = list(range(n_qubits - 1))\n",
    "    target_wire = n_qubits - 1\n",
    "\n",
    "    # Step 0: Uniform superposition\n",
    "    for wire in range(n_qubits):\n",
    "        qml.Hadamard(wire)\n",
    "\n",
    "    # Critical: Flip target wire AFTER superposition\n",
    "    qml.PauliX(target_wire)\n",
    "\n",
    "    # Print oracle targets\n",
    "    print(\"Running\", R, \"Grover iterations\")\n",
    "    print(\"Oracle indices (decimal):\", oracle_indices)\n",
    "    print(\"Binary targets:\", [format(i, '05b') for i in oracle_indices])\n",
    "\n",
    "    for _ in range(R):\n",
    "        # Oracle\n",
    "        full_oracle(control_wires, target_wire)\n",
    "\n",
    "        # Diffusion\n",
    "        for wire in range(n_qubits):\n",
    "            qml.Hadamard(wire)\n",
    "            qml.PauliX(wire)\n",
    "\n",
    "        qml.Hadamard(target_wire)\n",
    "        qml.ctrl(qml.PauliX, control=control_wires)(target_wire)\n",
    "        qml.Hadamard(target_wire)\n",
    "\n",
    "        for wire in range(n_qubits):\n",
    "            qml.PauliX(wire)\n",
    "            qml.Hadamard(wire)\n",
    "\n",
    "    return qml.probs(wires=range(n_qubits))"
   ]
  },
  {
   "cell_type": "code",
   "execution_count": 20,
   "id": "d992e9b5-3e09-455e-8a61-cbf162824555",
   "metadata": {},
   "outputs": [
    {
     "name": "stdout",
     "output_type": "stream",
     "text": [
      "Running 4 Grover iterations\n",
      "Oracle indices (decimal): [20]\n",
      "Binary targets: ['10100']\n"
     ]
    }
   ],
   "source": [
    "probs = grover_iteration_debug()\n",
    "for i, p in enumerate(probs):\n",
    "    if p > 0.05:\n",
    "        print(f\"State |{format(i, '05b')}⟩ → Probability: {p:.4f}\")\n"
   ]
  },
  {
   "cell_type": "code",
   "execution_count": 21,
   "id": "829f7bff-e94c-4426-b612-fa904819545d",
   "metadata": {},
   "outputs": [],
   "source": [
    "#Below is a hardcoded one and its just a test without grover loop and we are doing two kinds of tests"
   ]
  },
  {
   "cell_type": "code",
   "execution_count": 22,
   "id": "95712e07-56e9-43a6-b020-e8a14c9db5e7",
   "metadata": {},
   "outputs": [],
   "source": [
    "@qml.qnode(dev)\n",
    "def oracle_test_phase_flip():\n",
    "    control_wires = list(range(n_qubits - 1))\n",
    "    target_wire = n_qubits - 1\n",
    "\n",
    "    # Start in |10100⟩ state (index 20)\n",
    "    target_index = 20\n",
    "    binary = format(target_index, f\"0{n_qubits}b\")[::-1]\n",
    "    for i, bit in enumerate(binary):\n",
    "        if bit == '1':\n",
    "            qml.PauliX(i)\n",
    "\n",
    "    # Apply Oracle\n",
    "    full_oracle(control_wires, target_wire)\n",
    "\n",
    "    # Inverse the preparation to measure interference\n",
    "    for i, bit in enumerate(binary):\n",
    "        if bit == '1':\n",
    "            qml.PauliX(i)\n",
    "\n",
    "    return qml.probs(wires=range(n_qubits))"
   ]
  },
  {
   "cell_type": "code",
   "execution_count": 23,
   "id": "02575754-d516-4d8e-99df-9de77950e17b",
   "metadata": {},
   "outputs": [
    {
     "name": "stdout",
     "output_type": "stream",
     "text": [
      "State |00001⟩ → Probability: 1.0000\n"
     ]
    }
   ],
   "source": [
    "oracle_result = oracle_test_phase_flip()\n",
    "\n",
    "for i, p in enumerate(oracle_result):\n",
    "    if p > 0.01:\n",
    "        print(f\"State |{format(i, '05b')}⟩ → Probability: {p:.4f}\")\n"
   ]
  },
  {
   "cell_type": "code",
   "execution_count": 14,
   "id": "98a05fd0-894a-42ad-9af2-0fafee0deaab",
   "metadata": {},
   "outputs": [],
   "source": [
    "@qml.qnode(dev)\n",
    "def test_oracle_only():\n",
    "    # Prepare a known state: |10100⟩ = index 20\n",
    "    binary = format(20, \"05b\")\n",
    "    for i, bit in enumerate(reversed(binary)):\n",
    "        if bit == '1':\n",
    "            qml.PauliX(i)\n",
    "    \n",
    "    # Apply Oracle\n",
    "    full_oracle(control_wires=list(range(n_qubits - 1)), target_wire=n_qubits - 1)\n",
    "\n",
    "    # Measure final state\n",
    "    return qml.probs(wires=range(n_qubits))"
   ]
  },
  {
   "cell_type": "code",
   "execution_count": 15,
   "id": "bd6de873-b032-47dd-ac49-4f9c25905fe8",
   "metadata": {},
   "outputs": [
    {
     "name": "stdout",
     "output_type": "stream",
     "text": [
      "State |00100⟩ → Probability: 1.0000\n"
     ]
    }
   ],
   "source": [
    "probs = test_oracle_only()\n",
    "\n",
    "for i, p in enumerate(probs):\n",
    "    if p > 0.01:\n",
    "        print(f\"State |{format(i, '05b')}⟩ → Probability: {p:.4f}\")"
   ]
  },
  {
   "cell_type": "code",
   "execution_count": 16,
   "id": "c6e7514e-6f5b-40f4-8cef-19276f380dd7",
   "metadata": {},
   "outputs": [
    {
     "data": {
      "image/png": "[encoded data removed]",
      "text/plain": [
       "<Figure size 1200x600 with 1 Axes>"
      ]
     },
     "metadata": {},
     "output_type": "display_data"
    }
   ],
   "source": [
    "plt.figure(figsize=(12, 6))\n",
    "plt.bar(range(len(probs)), probs)\n",
    "plt.xlabel(\"State Index\")\n",
    "plt.ylabel(\"Probability\")\n",
    "plt.title(\"Grover's Algorithm Probability Distribution\")\n",
    "plt.xticks(ticks=range(len(probs)), labels=[format(i, '05b') for i in range(len(probs))], rotation=90)\n",
    "plt.grid(axis='y')\n",
    "plt.tight_layout()\n",
    "plt.show()"
   ]
  },
  {
   "cell_type": "code",
   "execution_count": null,
   "id": "5a86be61-5b3d-4d0f-a587-39fd3065bf51",
   "metadata": {},
   "outputs": [],
   "source": []
  }
 ],
 "metadata": {
  "kernelspec": {
   "display_name": "Python 3 (ipykernel)",
   "language": "python",
   "name": "python3"
  },
  "language_info": {
   "codemirror_mode": {
    "name": "ipython",
    "version": 3
   },
   "file_extension": ".py",
   "mimetype": "text/x-python",
   "name": "python",
   "nbconvert_exporter": "python",
   "pygments_lexer": "ipython3",
   "version": "3.10.16"
  }
 },
 "nbformat": 4,
 "nbformat_minor": 5
}
